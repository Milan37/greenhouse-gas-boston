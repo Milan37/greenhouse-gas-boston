{
 "cells": [
  {
   "cell_type": "code",
   "execution_count": 1,
   "metadata": {},
   "outputs": [
    {
     "name": "stdout",
     "output_type": "stream",
     "text": [
      "                                         Protocol  \\\n",
      "0     ICLEI: Local Government Operations Protocol   \n",
      "1     ICLEI: Local Government Operations Protocol   \n",
      "2     ICLEI: Local Government Operations Protocol   \n",
      "3     ICLEI: Local Government Operations Protocol   \n",
      "4     ICLEI: Local Government Operations Protocol   \n",
      "...                                           ...   \n",
      "1243  ICLEI: Local Government Operations Protocol   \n",
      "1244  ICLEI: Local Government Operations Protocol   \n",
      "1245  ICLEI: Local Government Operations Protocol   \n",
      "1246  ICLEI: Local Government Operations Protocol   \n",
      "1247  ICLEI: Local Government Operations Protocol   \n",
      "\n",
      "                   Department Longname Department     Sector    Fuel Type  \\\n",
      "0     Arts, Tourism and Special events       Arts  Buildings  Electricity   \n",
      "1     Arts, Tourism and Special events       Arts  Buildings  Electricity   \n",
      "2     Arts, Tourism and Special events       Arts  Buildings  Electricity   \n",
      "3     Arts, Tourism and Special events       Arts  Buildings  Electricity   \n",
      "4     Arts, Tourism and Special events       Arts  Buildings  Electricity   \n",
      "...                                ...        ...        ...          ...   \n",
      "1243        Water and Sewer Commission       BWSC  Buildings  Natural Gas   \n",
      "1244        Water and Sewer Commission       BWSC  Buildings  Natural Gas   \n",
      "1245        Water and Sewer Commission       BWSC  Buildings  Natural Gas   \n",
      "1246        Water and Sewer Commission       BWSC  Buildings  Natural Gas   \n",
      "1247        Water and Sewer Commission       BWSC  Buildings  Natural Gas   \n",
      "\n",
      "      Year (Fiscal Year) GHG Emissions (t CO2e)  \n",
      "0                   2005                      -  \n",
      "1                   2006                      -  \n",
      "2                   2007                    184  \n",
      "3                   2008                    128  \n",
      "4                   2009                    165  \n",
      "...                  ...                    ...  \n",
      "1243                2017                   1013  \n",
      "1244                2018                    864  \n",
      "1245                2019                    864  \n",
      "1246                2020                  1,276  \n",
      "1247                2021               1,075.11  \n",
      "\n",
      "[1248 rows x 7 columns]\n"
     ]
    }
   ],
   "source": [
    "import pandas as pd \n",
    "\n",
    "greenhouse_gas_df = pd.read_csv(\"/Users/onyinyeokonkwo/greenhouse-gas-boston/local-government-operations-greenhouse-gas-local-government-operations-greenhouse-gas (2).csv\")\n",
    "\n",
    "print(greenhouse_gas_df)"
   ]
  }
 ],
 "metadata": {
  "kernelspec": {
   "display_name": "Python 3",
   "language": "python",
   "name": "python3"
  },
  "language_info": {
   "codemirror_mode": {
    "name": "ipython",
    "version": 3
   },
   "file_extension": ".py",
   "mimetype": "text/x-python",
   "name": "python",
   "nbconvert_exporter": "python",
   "pygments_lexer": "ipython3",
   "version": "3.9.6"
  },
  "orig_nbformat": 4
 },
 "nbformat": 4,
 "nbformat_minor": 2
}
